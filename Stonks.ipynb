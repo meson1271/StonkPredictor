{
  "nbformat": 4,
  "nbformat_minor": 0,
  "metadata": {
    "colab": {
      "name": "Stonks.ipynb",
      "provenance": [],
      "collapsed_sections": []
    },
    "kernelspec": {
      "name": "python3",
      "display_name": "Python 3"
    },
    "accelerator": "GPU"
  },
  "cells": [
    {
      "cell_type": "code",
      "metadata": {
        "id": "C8DoqoZC9cW3"
      },
      "source": [
        "#imports\r\n",
        "import numpy as np\r\n",
        "import matplotlib.pyplot as plt\r\n",
        "from sympy import *\r\n",
        "import sklearn\r\n",
        "from sklearn import metrics\r\n",
        "from sklearn.datasets import make_regression\r\n",
        "#from sklearn import preprocessing, cross_validation, neighbors\r\n",
        "from sklearn import datasets\r\n",
        "import matplotlib.pyplot as plt\r\n",
        "from sklearn.model_selection import cross_val_score\r\n",
        "from sklearn.preprocessing import MinMaxScaler\r\n",
        "from sklearn.neural_network import MLPClassifier\r\n",
        "from sklearn import svm\r\n",
        "import pandas as pd\r\n",
        "import math\r\n",
        "from keras.models import Sequential\r\n",
        "from keras.layers import Dense, LSTM, Dropout\r\n",
        "\r\n",
        "\r\n",
        "import pandas_datareader as web\r\n",
        "\r\n",
        "\r\n",
        "\r\n",
        "\r\n"
      ],
      "execution_count": null,
      "outputs": []
    },
    {
      "cell_type": "code",
      "metadata": {
        "colab": {
          "base_uri": "https://localhost:8080/"
        },
        "id": "7B-ZFBrG9ibH",
        "outputId": "580a8ddc-9875-4901-cb32-ae3efe017e41"
      },
      "source": [
        "df = web.DataReader('AAPL', data_source = 'yahoo', start = '2015-01-01', end = '2021-02-10')\r\n",
        "print(df.head())\r\n",
        "print(df['Close'])\r\n",
        "#print(df['Adj Close'])"
      ],
      "execution_count": null,
      "outputs": [
        {
          "output_type": "stream",
          "text": [
            "                 High        Low       Open      Close       Volume  Adj Close\n",
            "Date                                                                          \n",
            "2015-01-02  27.860001  26.837500  27.847500  27.332500  212818400.0  24.861401\n",
            "2015-01-05  27.162500  26.352501  27.072500  26.562500  257142000.0  24.161013\n",
            "2015-01-06  26.857500  26.157499  26.635000  26.565001  263188400.0  24.163294\n",
            "2015-01-07  27.049999  26.674999  26.799999  26.937500  160423600.0  24.502111\n",
            "2015-01-08  28.037500  27.174999  27.307501  27.972500  237458000.0  25.443539\n",
            "Date\n",
            "2015-01-02     27.332500\n",
            "2015-01-05     26.562500\n",
            "2015-01-06     26.565001\n",
            "2015-01-07     26.937500\n",
            "2015-01-08     27.972500\n",
            "                 ...    \n",
            "2021-02-04    137.389999\n",
            "2021-02-05    136.759995\n",
            "2021-02-08    136.910004\n",
            "2021-02-09    136.009995\n",
            "2021-02-10    135.389999\n",
            "Name: Close, Length: 1538, dtype: float64\n"
          ],
          "name": "stdout"
        }
      ]
    },
    {
      "cell_type": "code",
      "metadata": {
        "colab": {
          "base_uri": "https://localhost:8080/"
        },
        "id": "jdZ03QgfAVf5",
        "outputId": "04d65a0e-38a6-4bb2-d7cf-1f50451dd6d0"
      },
      "source": [
        "#print(df[-1][-1])\r\n",
        "df = df.filter(['Close', 'High', 'Low'])\r\n",
        "data = df.values\r\n",
        "print(df.tail())"
      ],
      "execution_count": null,
      "outputs": [
        {
          "output_type": "stream",
          "text": [
            "                 Close        High         Low\n",
            "Date                                          \n",
            "2021-02-04  137.389999  137.399994  134.589996\n",
            "2021-02-05  136.759995  137.419998  135.860001\n",
            "2021-02-08  136.910004  136.960007  134.919998\n",
            "2021-02-09  136.009995  137.880005  135.850006\n",
            "2021-02-10  135.389999  136.990005  134.399994\n"
          ],
          "name": "stdout"
        }
      ]
    },
    {
      "cell_type": "code",
      "metadata": {
        "colab": {
          "base_uri": "https://localhost:8080/"
        },
        "id": "sRWV4dQ69idr",
        "outputId": "9c988c69-87e3-4fd2-f147-99ff05f8c733"
      },
      "source": [
        "full = []\r\n",
        "\r\n",
        "\r\n",
        "scaler = MinMaxScaler(feature_range = (0,1))\r\n",
        "#sdata = scaler.fit_transform(data)\r\n",
        "#print(sdata.shape)\r\n",
        "temp =[]\r\n",
        "y = []\r\n",
        "x=[]\r\n",
        "\r\n",
        "for i in range(30, len(data)):\r\n",
        "  \r\n",
        "  x.append(np.concatenate((data[i-30:i, 0],data[i-10:i, 1], data[i-10:i, 2])))#+data[i,0])\r\n",
        "  y.append(data[i,0])\r\n",
        "\r\n",
        "\r\n",
        "#xs = scaler.fit_transform(x)\r\n",
        "print(len(y))\r\n",
        "print(len(x))"
      ],
      "execution_count": null,
      "outputs": [
        {
          "output_type": "stream",
          "text": [
            "1508\n",
            "1508\n"
          ],
          "name": "stdout"
        }
      ]
    },
    {
      "cell_type": "code",
      "metadata": {
        "id": "-NNt_pqoQ5dc"
      },
      "source": [
        ""
      ],
      "execution_count": null,
      "outputs": []
    },
    {
      "cell_type": "code",
      "metadata": {
        "id": "UeNdscUECvAL"
      },
      "source": [
        "#xs, ys = np.array(xs), np.array(ys)\r\n",
        "#xs, y = np.array(xs), np.array(y)"
      ],
      "execution_count": null,
      "outputs": []
    },
    {
      "cell_type": "code",
      "metadata": {
        "id": "NmnqDW-gG6lZ"
      },
      "source": [
        "x, y = np.array(x), np.array(y)\r\n",
        "\r\n",
        "x_t, x_test, y_t,y_test = sklearn.model_selection.train_test_split(x,y, test_size = 1/4, random_state = 1338)\r\n",
        "\r\n"
      ],
      "execution_count": null,
      "outputs": []
    },
    {
      "cell_type": "code",
      "metadata": {
        "id": "4QiGj4_sG6nj"
      },
      "source": [
        "\r\n",
        "#x_ts = scaler.fit_transform(x)\r\n",
        "\r\n",
        "x_ts = np.reshape(x_t, (x_t.shape[0], x_t.shape[1], 1))\r\n",
        "x_tests = np.reshape(x_test, (x_test.shape[0], x_test.shape[1], 1))\r\n",
        "\r\n",
        "\r\n",
        "\r\n",
        "\r\n",
        "\r\n",
        "model = Sequential()\r\n",
        "\r\n",
        "model.add(LSTM(50, return_sequences=True, input_shape = (x_ts.shape[1], 1)))\r\n",
        "#\r\n",
        "#model.add(Dropout(0.5))\r\n",
        "model.add(LSTM(50, return_sequences=False))\r\n",
        "#model.add(Dropout(0.5))\r\n",
        "model.add(Dense(25))\r\n",
        "#model.add(Dropout(0.5))\r\n",
        "model.add(Dense(1))\r\n",
        "\r\n",
        "model.compile(optimizer = \"adam\", loss = \"mean_squared_error\", metrics= 'mean_absolute_percentage_error')\r\n",
        "\r\n",
        "\r\n"
      ],
      "execution_count": null,
      "outputs": []
    },
    {
      "cell_type": "code",
      "metadata": {
        "colab": {
          "base_uri": "https://localhost:8080/"
        },
        "id": "hEoXHk2snQas",
        "outputId": "35bdf849-959e-4fde-ee31-9b2a948d230e"
      },
      "source": [
        "model.fit(x_ts, y_t, batch_size=15, epochs=200, shuffle = True)"
      ],
      "execution_count": null,
      "outputs": [
        {
          "output_type": "stream",
          "text": [
            "Epoch 1/200\n",
            "76/76 [==============================] - 3s 7ms/step - loss: 2561.2936 - mean_absolute_percentage_error: 76.3862\n",
            "Epoch 2/200\n",
            "76/76 [==============================] - 0s 6ms/step - loss: 763.0983 - mean_absolute_percentage_error: 36.8492\n",
            "Epoch 3/200\n",
            "76/76 [==============================] - 1s 7ms/step - loss: 699.7040 - mean_absolute_percentage_error: 39.5731\n",
            "Epoch 4/200\n",
            "76/76 [==============================] - 0s 6ms/step - loss: 276.9478 - mean_absolute_percentage_error: 8.5798\n",
            "Epoch 5/200\n",
            "76/76 [==============================] - 0s 7ms/step - loss: 59.2510 - mean_absolute_percentage_error: 4.5345\n",
            "Epoch 6/200\n",
            "76/76 [==============================] - 1s 8ms/step - loss: 14.5535 - mean_absolute_percentage_error: 3.0124\n",
            "Epoch 7/200\n",
            "76/76 [==============================] - 0s 6ms/step - loss: 8.1958 - mean_absolute_percentage_error: 2.7603\n",
            "Epoch 8/200\n",
            "76/76 [==============================] - 0s 6ms/step - loss: 9.1793 - mean_absolute_percentage_error: 3.0334\n",
            "Epoch 9/200\n",
            "76/76 [==============================] - 0s 6ms/step - loss: 5.7684 - mean_absolute_percentage_error: 2.8859\n",
            "Epoch 10/200\n",
            "76/76 [==============================] - 0s 6ms/step - loss: 5.2156 - mean_absolute_percentage_error: 2.5511\n",
            "Epoch 11/200\n",
            "76/76 [==============================] - 1s 7ms/step - loss: 4.4750 - mean_absolute_percentage_error: 2.5714\n",
            "Epoch 12/200\n",
            "76/76 [==============================] - 0s 6ms/step - loss: 6.0331 - mean_absolute_percentage_error: 2.4070\n",
            "Epoch 13/200\n",
            "76/76 [==============================] - 0s 6ms/step - loss: 3.5538 - mean_absolute_percentage_error: 2.0333\n",
            "Epoch 14/200\n",
            "76/76 [==============================] - 0s 6ms/step - loss: 3.2321 - mean_absolute_percentage_error: 2.0863\n",
            "Epoch 15/200\n",
            "76/76 [==============================] - 0s 6ms/step - loss: 5.2736 - mean_absolute_percentage_error: 2.9093\n",
            "Epoch 16/200\n",
            "76/76 [==============================] - 0s 6ms/step - loss: 4.0288 - mean_absolute_percentage_error: 2.7038\n",
            "Epoch 17/200\n",
            "76/76 [==============================] - 0s 6ms/step - loss: 3.5466 - mean_absolute_percentage_error: 2.3674\n",
            "Epoch 18/200\n",
            "76/76 [==============================] - 0s 6ms/step - loss: 4.9091 - mean_absolute_percentage_error: 2.3415\n",
            "Epoch 19/200\n",
            "76/76 [==============================] - 0s 6ms/step - loss: 3.3946 - mean_absolute_percentage_error: 2.0082\n",
            "Epoch 20/200\n",
            "76/76 [==============================] - 1s 7ms/step - loss: 3.3959 - mean_absolute_percentage_error: 1.9724\n",
            "Epoch 21/200\n",
            "76/76 [==============================] - 0s 6ms/step - loss: 3.0085 - mean_absolute_percentage_error: 2.3424\n",
            "Epoch 22/200\n",
            "76/76 [==============================] - 0s 6ms/step - loss: 3.6825 - mean_absolute_percentage_error: 2.4619\n",
            "Epoch 23/200\n",
            "76/76 [==============================] - 0s 6ms/step - loss: 3.4503 - mean_absolute_percentage_error: 2.5356\n",
            "Epoch 24/200\n",
            "76/76 [==============================] - 0s 6ms/step - loss: 2.1461 - mean_absolute_percentage_error: 1.8007\n",
            "Epoch 25/200\n",
            "76/76 [==============================] - 1s 7ms/step - loss: 2.4187 - mean_absolute_percentage_error: 2.0045\n",
            "Epoch 26/200\n",
            "76/76 [==============================] - 0s 6ms/step - loss: 4.4720 - mean_absolute_percentage_error: 2.7958\n",
            "Epoch 27/200\n",
            "76/76 [==============================] - 0s 6ms/step - loss: 4.0315 - mean_absolute_percentage_error: 2.5899\n",
            "Epoch 28/200\n",
            "76/76 [==============================] - 0s 6ms/step - loss: 3.6498 - mean_absolute_percentage_error: 2.8196\n",
            "Epoch 29/200\n",
            "76/76 [==============================] - 0s 6ms/step - loss: 3.0283 - mean_absolute_percentage_error: 2.4169\n",
            "Epoch 30/200\n",
            "76/76 [==============================] - 1s 7ms/step - loss: 2.7547 - mean_absolute_percentage_error: 1.7765\n",
            "Epoch 31/200\n",
            "76/76 [==============================] - 1s 7ms/step - loss: 2.3957 - mean_absolute_percentage_error: 2.1834\n",
            "Epoch 32/200\n",
            "76/76 [==============================] - 0s 6ms/step - loss: 4.4003 - mean_absolute_percentage_error: 3.2054\n",
            "Epoch 33/200\n",
            "76/76 [==============================] - 0s 6ms/step - loss: 2.4299 - mean_absolute_percentage_error: 1.7717\n",
            "Epoch 34/200\n",
            "76/76 [==============================] - 0s 6ms/step - loss: 2.3914 - mean_absolute_percentage_error: 1.8180\n",
            "Epoch 35/200\n",
            "76/76 [==============================] - 0s 6ms/step - loss: 2.4085 - mean_absolute_percentage_error: 2.0965\n",
            "Epoch 36/200\n",
            "76/76 [==============================] - 1s 7ms/step - loss: 2.9816 - mean_absolute_percentage_error: 2.2261\n",
            "Epoch 37/200\n",
            "76/76 [==============================] - 0s 6ms/step - loss: 2.6294 - mean_absolute_percentage_error: 2.2007\n",
            "Epoch 38/200\n",
            "76/76 [==============================] - 0s 6ms/step - loss: 2.7596 - mean_absolute_percentage_error: 2.1477\n",
            "Epoch 39/200\n",
            "76/76 [==============================] - 0s 6ms/step - loss: 2.7534 - mean_absolute_percentage_error: 2.3991\n",
            "Epoch 40/200\n",
            "76/76 [==============================] - 0s 6ms/step - loss: 3.1786 - mean_absolute_percentage_error: 2.4644\n",
            "Epoch 41/200\n",
            "76/76 [==============================] - 0s 6ms/step - loss: 2.4378 - mean_absolute_percentage_error: 2.0128\n",
            "Epoch 42/200\n",
            "76/76 [==============================] - 1s 7ms/step - loss: 2.5850 - mean_absolute_percentage_error: 2.0339\n",
            "Epoch 43/200\n",
            "76/76 [==============================] - 1s 7ms/step - loss: 2.1245 - mean_absolute_percentage_error: 1.7818\n",
            "Epoch 44/200\n",
            "76/76 [==============================] - 0s 6ms/step - loss: 2.7205 - mean_absolute_percentage_error: 2.3768\n",
            "Epoch 45/200\n",
            "76/76 [==============================] - 0s 6ms/step - loss: 2.0554 - mean_absolute_percentage_error: 1.9388\n",
            "Epoch 46/200\n",
            "76/76 [==============================] - 0s 7ms/step - loss: 2.3068 - mean_absolute_percentage_error: 2.0496\n",
            "Epoch 47/200\n",
            "76/76 [==============================] - 0s 6ms/step - loss: 2.3307 - mean_absolute_percentage_error: 2.3212\n",
            "Epoch 48/200\n",
            "76/76 [==============================] - 0s 6ms/step - loss: 3.7968 - mean_absolute_percentage_error: 2.7993\n",
            "Epoch 49/200\n",
            "76/76 [==============================] - 0s 6ms/step - loss: 2.7378 - mean_absolute_percentage_error: 2.2472\n",
            "Epoch 50/200\n",
            "76/76 [==============================] - 1s 7ms/step - loss: 2.4446 - mean_absolute_percentage_error: 2.1170\n",
            "Epoch 51/200\n",
            "76/76 [==============================] - 1s 7ms/step - loss: 2.1515 - mean_absolute_percentage_error: 1.9240\n",
            "Epoch 52/200\n",
            "76/76 [==============================] - 0s 6ms/step - loss: 2.0467 - mean_absolute_percentage_error: 1.6768\n",
            "Epoch 53/200\n",
            "76/76 [==============================] - 0s 6ms/step - loss: 2.1294 - mean_absolute_percentage_error: 1.6994\n",
            "Epoch 54/200\n",
            "76/76 [==============================] - 0s 6ms/step - loss: 2.3921 - mean_absolute_percentage_error: 2.0233\n",
            "Epoch 55/200\n",
            "76/76 [==============================] - 0s 6ms/step - loss: 2.2618 - mean_absolute_percentage_error: 2.0231\n",
            "Epoch 56/200\n",
            "76/76 [==============================] - 0s 7ms/step - loss: 2.6731 - mean_absolute_percentage_error: 2.4592\n",
            "Epoch 57/200\n",
            "76/76 [==============================] - 1s 7ms/step - loss: 2.2978 - mean_absolute_percentage_error: 1.9124\n",
            "Epoch 58/200\n",
            "76/76 [==============================] - 0s 6ms/step - loss: 2.9794 - mean_absolute_percentage_error: 2.2599\n",
            "Epoch 59/200\n",
            "76/76 [==============================] - 0s 6ms/step - loss: 2.2255 - mean_absolute_percentage_error: 1.9094\n",
            "Epoch 60/200\n",
            "76/76 [==============================] - 0s 6ms/step - loss: 1.9465 - mean_absolute_percentage_error: 1.6836\n",
            "Epoch 61/200\n",
            "76/76 [==============================] - 0s 6ms/step - loss: 2.6840 - mean_absolute_percentage_error: 2.1496\n",
            "Epoch 62/200\n",
            "76/76 [==============================] - 1s 7ms/step - loss: 1.9906 - mean_absolute_percentage_error: 1.7900\n",
            "Epoch 63/200\n",
            "76/76 [==============================] - 0s 6ms/step - loss: 2.8649 - mean_absolute_percentage_error: 2.4618\n",
            "Epoch 64/200\n",
            "76/76 [==============================] - 1s 7ms/step - loss: 2.2445 - mean_absolute_percentage_error: 1.8211\n",
            "Epoch 65/200\n",
            "76/76 [==============================] - 0s 6ms/step - loss: 1.9356 - mean_absolute_percentage_error: 1.8828\n",
            "Epoch 66/200\n",
            "76/76 [==============================] - 0s 6ms/step - loss: 2.6128 - mean_absolute_percentage_error: 1.7429\n",
            "Epoch 67/200\n",
            "76/76 [==============================] - 0s 6ms/step - loss: 2.4111 - mean_absolute_percentage_error: 2.0577\n",
            "Epoch 68/200\n",
            "76/76 [==============================] - 0s 6ms/step - loss: 2.2076 - mean_absolute_percentage_error: 2.1325\n",
            "Epoch 69/200\n",
            "76/76 [==============================] - 0s 6ms/step - loss: 2.5996 - mean_absolute_percentage_error: 2.1279\n",
            "Epoch 70/200\n",
            "76/76 [==============================] - 0s 6ms/step - loss: 2.4692 - mean_absolute_percentage_error: 2.0405\n",
            "Epoch 71/200\n",
            "76/76 [==============================] - 1s 7ms/step - loss: 2.1587 - mean_absolute_percentage_error: 1.5976\n",
            "Epoch 72/200\n",
            "76/76 [==============================] - 1s 7ms/step - loss: 4.0934 - mean_absolute_percentage_error: 3.0491\n",
            "Epoch 73/200\n",
            "76/76 [==============================] - 0s 6ms/step - loss: 1.9966 - mean_absolute_percentage_error: 1.9151\n",
            "Epoch 74/200\n",
            "76/76 [==============================] - 0s 6ms/step - loss: 1.9520 - mean_absolute_percentage_error: 1.7485\n",
            "Epoch 75/200\n",
            "76/76 [==============================] - 0s 6ms/step - loss: 2.1620 - mean_absolute_percentage_error: 2.0022\n",
            "Epoch 76/200\n",
            "76/76 [==============================] - 0s 6ms/step - loss: 3.6056 - mean_absolute_percentage_error: 2.8004\n",
            "Epoch 77/200\n",
            "76/76 [==============================] - 0s 6ms/step - loss: 2.1140 - mean_absolute_percentage_error: 1.8381\n",
            "Epoch 78/200\n",
            "76/76 [==============================] - 0s 6ms/step - loss: 1.9488 - mean_absolute_percentage_error: 1.7366\n",
            "Epoch 79/200\n",
            "76/76 [==============================] - 0s 6ms/step - loss: 2.0691 - mean_absolute_percentage_error: 1.7684\n",
            "Epoch 80/200\n",
            "76/76 [==============================] - 0s 6ms/step - loss: 1.7994 - mean_absolute_percentage_error: 1.6504\n",
            "Epoch 81/200\n",
            "76/76 [==============================] - 0s 6ms/step - loss: 2.1200 - mean_absolute_percentage_error: 1.6974\n",
            "Epoch 82/200\n",
            "76/76 [==============================] - 0s 6ms/step - loss: 1.9148 - mean_absolute_percentage_error: 1.9111\n",
            "Epoch 83/200\n",
            "76/76 [==============================] - 1s 8ms/step - loss: 2.4009 - mean_absolute_percentage_error: 2.0410\n",
            "Epoch 84/200\n",
            "76/76 [==============================] - 1s 7ms/step - loss: 2.2099 - mean_absolute_percentage_error: 2.0389\n",
            "Epoch 85/200\n",
            "76/76 [==============================] - 1s 7ms/step - loss: 1.8185 - mean_absolute_percentage_error: 1.7846\n",
            "Epoch 86/200\n",
            "76/76 [==============================] - 1s 7ms/step - loss: 2.8637 - mean_absolute_percentage_error: 2.2658\n",
            "Epoch 87/200\n",
            "76/76 [==============================] - 0s 6ms/step - loss: 2.8564 - mean_absolute_percentage_error: 2.1154\n",
            "Epoch 88/200\n",
            "76/76 [==============================] - 0s 6ms/step - loss: 3.0272 - mean_absolute_percentage_error: 2.3811\n",
            "Epoch 89/200\n",
            "76/76 [==============================] - 0s 6ms/step - loss: 1.9806 - mean_absolute_percentage_error: 1.6908\n",
            "Epoch 90/200\n",
            "76/76 [==============================] - 0s 6ms/step - loss: 1.8628 - mean_absolute_percentage_error: 1.8222\n",
            "Epoch 91/200\n",
            "76/76 [==============================] - 0s 6ms/step - loss: 2.6383 - mean_absolute_percentage_error: 2.2588\n",
            "Epoch 92/200\n",
            "76/76 [==============================] - 0s 6ms/step - loss: 2.8358 - mean_absolute_percentage_error: 2.1861\n",
            "Epoch 93/200\n",
            "76/76 [==============================] - 0s 6ms/step - loss: 2.5805 - mean_absolute_percentage_error: 2.0059\n",
            "Epoch 94/200\n",
            "76/76 [==============================] - 0s 6ms/step - loss: 2.7314 - mean_absolute_percentage_error: 2.5536\n",
            "Epoch 95/200\n",
            "76/76 [==============================] - 0s 6ms/step - loss: 2.0854 - mean_absolute_percentage_error: 1.7678\n",
            "Epoch 96/200\n",
            "76/76 [==============================] - 0s 6ms/step - loss: 2.0588 - mean_absolute_percentage_error: 1.6913\n",
            "Epoch 97/200\n",
            "76/76 [==============================] - 0s 6ms/step - loss: 2.0403 - mean_absolute_percentage_error: 1.7998\n",
            "Epoch 98/200\n",
            "76/76 [==============================] - 0s 6ms/step - loss: 1.9611 - mean_absolute_percentage_error: 1.6835\n",
            "Epoch 99/200\n",
            "76/76 [==============================] - 0s 6ms/step - loss: 2.2712 - mean_absolute_percentage_error: 1.9550\n",
            "Epoch 100/200\n",
            "76/76 [==============================] - 0s 6ms/step - loss: 2.4071 - mean_absolute_percentage_error: 2.1180\n",
            "Epoch 101/200\n",
            "76/76 [==============================] - 0s 6ms/step - loss: 2.2532 - mean_absolute_percentage_error: 1.8882\n",
            "Epoch 102/200\n",
            "76/76 [==============================] - 0s 6ms/step - loss: 2.3260 - mean_absolute_percentage_error: 1.8056\n",
            "Epoch 103/200\n",
            "76/76 [==============================] - 0s 6ms/step - loss: 2.2425 - mean_absolute_percentage_error: 2.0040\n",
            "Epoch 104/200\n",
            "76/76 [==============================] - 0s 6ms/step - loss: 1.9260 - mean_absolute_percentage_error: 1.7613\n",
            "Epoch 105/200\n",
            "76/76 [==============================] - 1s 7ms/step - loss: 2.9002 - mean_absolute_percentage_error: 2.1624\n",
            "Epoch 106/200\n",
            "76/76 [==============================] - 1s 7ms/step - loss: 2.2753 - mean_absolute_percentage_error: 1.9503\n",
            "Epoch 107/200\n",
            "76/76 [==============================] - 0s 6ms/step - loss: 2.6286 - mean_absolute_percentage_error: 2.1492\n",
            "Epoch 108/200\n",
            "76/76 [==============================] - 0s 6ms/step - loss: 2.1151 - mean_absolute_percentage_error: 1.8636\n",
            "Epoch 109/200\n",
            "76/76 [==============================] - 1s 7ms/step - loss: 3.1989 - mean_absolute_percentage_error: 2.6434\n",
            "Epoch 110/200\n",
            "76/76 [==============================] - 0s 6ms/step - loss: 1.7739 - mean_absolute_percentage_error: 1.5101\n",
            "Epoch 111/200\n",
            "76/76 [==============================] - 0s 6ms/step - loss: 2.7738 - mean_absolute_percentage_error: 2.3087\n",
            "Epoch 112/200\n",
            "76/76 [==============================] - 0s 6ms/step - loss: 2.2689 - mean_absolute_percentage_error: 1.8162\n",
            "Epoch 113/200\n",
            "76/76 [==============================] - 0s 6ms/step - loss: 2.6894 - mean_absolute_percentage_error: 1.9479\n",
            "Epoch 114/200\n",
            "76/76 [==============================] - 1s 8ms/step - loss: 2.2658 - mean_absolute_percentage_error: 1.8256\n",
            "Epoch 115/200\n",
            "76/76 [==============================] - 1s 7ms/step - loss: 2.0159 - mean_absolute_percentage_error: 1.8544\n",
            "Epoch 116/200\n",
            "76/76 [==============================] - 0s 6ms/step - loss: 2.3172 - mean_absolute_percentage_error: 2.0229\n",
            "Epoch 117/200\n",
            "76/76 [==============================] - 1s 7ms/step - loss: 1.9260 - mean_absolute_percentage_error: 1.8015\n",
            "Epoch 118/200\n",
            "76/76 [==============================] - 0s 6ms/step - loss: 2.1097 - mean_absolute_percentage_error: 1.8658\n",
            "Epoch 119/200\n",
            "76/76 [==============================] - 0s 6ms/step - loss: 2.6649 - mean_absolute_percentage_error: 2.0387\n",
            "Epoch 120/200\n",
            "76/76 [==============================] - 0s 6ms/step - loss: 2.1742 - mean_absolute_percentage_error: 1.8357\n",
            "Epoch 121/200\n",
            "76/76 [==============================] - 1s 7ms/step - loss: 1.9392 - mean_absolute_percentage_error: 1.7423\n",
            "Epoch 122/200\n",
            "76/76 [==============================] - 1s 8ms/step - loss: 2.4254 - mean_absolute_percentage_error: 1.8838\n",
            "Epoch 123/200\n",
            "76/76 [==============================] - 0s 6ms/step - loss: 2.0318 - mean_absolute_percentage_error: 1.8518\n",
            "Epoch 124/200\n",
            "76/76 [==============================] - 1s 7ms/step - loss: 2.0489 - mean_absolute_percentage_error: 1.7843\n",
            "Epoch 125/200\n",
            "76/76 [==============================] - 0s 6ms/step - loss: 1.9130 - mean_absolute_percentage_error: 1.7604\n",
            "Epoch 126/200\n",
            "76/76 [==============================] - 0s 6ms/step - loss: 2.5504 - mean_absolute_percentage_error: 2.1351\n",
            "Epoch 127/200\n",
            "76/76 [==============================] - 0s 6ms/step - loss: 2.6182 - mean_absolute_percentage_error: 1.9941\n",
            "Epoch 128/200\n",
            "76/76 [==============================] - 0s 6ms/step - loss: 2.2956 - mean_absolute_percentage_error: 1.6802\n",
            "Epoch 129/200\n",
            "76/76 [==============================] - 0s 6ms/step - loss: 2.5506 - mean_absolute_percentage_error: 1.9350\n",
            "Epoch 130/200\n",
            "76/76 [==============================] - 0s 6ms/step - loss: 1.9657 - mean_absolute_percentage_error: 1.5602\n",
            "Epoch 131/200\n",
            "76/76 [==============================] - 0s 6ms/step - loss: 2.2640 - mean_absolute_percentage_error: 1.8905\n",
            "Epoch 132/200\n",
            "76/76 [==============================] - 0s 6ms/step - loss: 1.8461 - mean_absolute_percentage_error: 1.9341\n",
            "Epoch 133/200\n",
            "76/76 [==============================] - 0s 6ms/step - loss: 2.1216 - mean_absolute_percentage_error: 1.7109\n",
            "Epoch 134/200\n",
            "76/76 [==============================] - 0s 6ms/step - loss: 2.0257 - mean_absolute_percentage_error: 1.6472\n",
            "Epoch 135/200\n",
            "76/76 [==============================] - 0s 6ms/step - loss: 2.4161 - mean_absolute_percentage_error: 2.1701\n",
            "Epoch 136/200\n",
            "76/76 [==============================] - 0s 6ms/step - loss: 2.0607 - mean_absolute_percentage_error: 1.9854\n",
            "Epoch 137/200\n",
            "76/76 [==============================] - 0s 6ms/step - loss: 2.9227 - mean_absolute_percentage_error: 2.1573\n",
            "Epoch 138/200\n",
            "76/76 [==============================] - 1s 7ms/step - loss: 1.7224 - mean_absolute_percentage_error: 1.5914\n",
            "Epoch 139/200\n",
            "76/76 [==============================] - 1s 7ms/step - loss: 2.0865 - mean_absolute_percentage_error: 1.7423\n",
            "Epoch 140/200\n",
            "76/76 [==============================] - 0s 6ms/step - loss: 1.8558 - mean_absolute_percentage_error: 1.7283\n",
            "Epoch 141/200\n",
            "76/76 [==============================] - 0s 6ms/step - loss: 2.5625 - mean_absolute_percentage_error: 2.2729\n",
            "Epoch 142/200\n",
            "76/76 [==============================] - 0s 6ms/step - loss: 1.7574 - mean_absolute_percentage_error: 1.6928\n",
            "Epoch 143/200\n",
            "76/76 [==============================] - 0s 6ms/step - loss: 2.0910 - mean_absolute_percentage_error: 1.6825\n",
            "Epoch 144/200\n",
            "76/76 [==============================] - 1s 8ms/step - loss: 2.1168 - mean_absolute_percentage_error: 1.8838\n",
            "Epoch 145/200\n",
            "76/76 [==============================] - 1s 7ms/step - loss: 1.9208 - mean_absolute_percentage_error: 1.8294\n",
            "Epoch 146/200\n",
            "76/76 [==============================] - 1s 7ms/step - loss: 2.5651 - mean_absolute_percentage_error: 2.0623\n",
            "Epoch 147/200\n",
            "76/76 [==============================] - 1s 7ms/step - loss: 2.0370 - mean_absolute_percentage_error: 1.8139\n",
            "Epoch 148/200\n",
            "76/76 [==============================] - 0s 6ms/step - loss: 2.3105 - mean_absolute_percentage_error: 2.1236\n",
            "Epoch 149/200\n",
            "76/76 [==============================] - 1s 7ms/step - loss: 2.2880 - mean_absolute_percentage_error: 2.0053\n",
            "Epoch 150/200\n",
            "76/76 [==============================] - 0s 6ms/step - loss: 2.1128 - mean_absolute_percentage_error: 1.7441\n",
            "Epoch 151/200\n",
            "76/76 [==============================] - 0s 6ms/step - loss: 2.3708 - mean_absolute_percentage_error: 1.8866\n",
            "Epoch 152/200\n",
            "76/76 [==============================] - 0s 6ms/step - loss: 1.9383 - mean_absolute_percentage_error: 1.8658\n",
            "Epoch 153/200\n",
            "76/76 [==============================] - 0s 6ms/step - loss: 1.7702 - mean_absolute_percentage_error: 1.6758\n",
            "Epoch 154/200\n",
            "76/76 [==============================] - 0s 6ms/step - loss: 1.8431 - mean_absolute_percentage_error: 1.5079\n",
            "Epoch 155/200\n",
            "76/76 [==============================] - 0s 6ms/step - loss: 1.9091 - mean_absolute_percentage_error: 1.6638\n",
            "Epoch 156/200\n",
            "76/76 [==============================] - 0s 6ms/step - loss: 1.9108 - mean_absolute_percentage_error: 1.8648\n",
            "Epoch 157/200\n",
            "76/76 [==============================] - 0s 6ms/step - loss: 2.3721 - mean_absolute_percentage_error: 1.8976\n",
            "Epoch 158/200\n",
            "76/76 [==============================] - 1s 7ms/step - loss: 2.4062 - mean_absolute_percentage_error: 2.0044\n",
            "Epoch 159/200\n",
            "76/76 [==============================] - 1s 7ms/step - loss: 1.9946 - mean_absolute_percentage_error: 1.7132\n",
            "Epoch 160/200\n",
            "76/76 [==============================] - 0s 6ms/step - loss: 2.6137 - mean_absolute_percentage_error: 2.1989\n",
            "Epoch 161/200\n",
            "76/76 [==============================] - 0s 6ms/step - loss: 1.5821 - mean_absolute_percentage_error: 1.5909\n",
            "Epoch 162/200\n",
            "76/76 [==============================] - 1s 7ms/step - loss: 2.0512 - mean_absolute_percentage_error: 1.8816\n",
            "Epoch 163/200\n",
            "76/76 [==============================] - 1s 7ms/step - loss: 1.8311 - mean_absolute_percentage_error: 1.9118\n",
            "Epoch 164/200\n",
            "76/76 [==============================] - 0s 6ms/step - loss: 2.6917 - mean_absolute_percentage_error: 2.3064\n",
            "Epoch 165/200\n",
            "76/76 [==============================] - 0s 6ms/step - loss: 2.0482 - mean_absolute_percentage_error: 1.7649\n",
            "Epoch 166/200\n",
            "76/76 [==============================] - 0s 7ms/step - loss: 3.6960 - mean_absolute_percentage_error: 2.3026\n",
            "Epoch 167/200\n",
            "76/76 [==============================] - 0s 6ms/step - loss: 2.3130 - mean_absolute_percentage_error: 1.8569\n",
            "Epoch 168/200\n",
            "76/76 [==============================] - 1s 7ms/step - loss: 2.2958 - mean_absolute_percentage_error: 1.9506\n",
            "Epoch 169/200\n",
            "76/76 [==============================] - 1s 7ms/step - loss: 1.9202 - mean_absolute_percentage_error: 1.7129\n",
            "Epoch 170/200\n",
            "76/76 [==============================] - 0s 6ms/step - loss: 2.5048 - mean_absolute_percentage_error: 2.3793\n",
            "Epoch 171/200\n",
            "76/76 [==============================] - 0s 6ms/step - loss: 1.8868 - mean_absolute_percentage_error: 1.7106\n",
            "Epoch 172/200\n",
            "76/76 [==============================] - 0s 6ms/step - loss: 2.6034 - mean_absolute_percentage_error: 1.9482\n",
            "Epoch 173/200\n",
            "76/76 [==============================] - 1s 7ms/step - loss: 1.8493 - mean_absolute_percentage_error: 1.8063\n",
            "Epoch 174/200\n",
            "76/76 [==============================] - 1s 8ms/step - loss: 1.6800 - mean_absolute_percentage_error: 1.4856\n",
            "Epoch 175/200\n",
            "76/76 [==============================] - 1s 7ms/step - loss: 2.1797 - mean_absolute_percentage_error: 2.0031\n",
            "Epoch 176/200\n",
            "76/76 [==============================] - 1s 7ms/step - loss: 2.4698 - mean_absolute_percentage_error: 1.8327\n",
            "Epoch 177/200\n",
            "76/76 [==============================] - 1s 7ms/step - loss: 1.8608 - mean_absolute_percentage_error: 1.5887\n",
            "Epoch 178/200\n",
            "76/76 [==============================] - 0s 6ms/step - loss: 2.1088 - mean_absolute_percentage_error: 1.6802\n",
            "Epoch 179/200\n",
            "76/76 [==============================] - 0s 7ms/step - loss: 2.1195 - mean_absolute_percentage_error: 1.7236\n",
            "Epoch 180/200\n",
            "76/76 [==============================] - 0s 6ms/step - loss: 1.8764 - mean_absolute_percentage_error: 1.7788\n",
            "Epoch 181/200\n",
            "76/76 [==============================] - 0s 7ms/step - loss: 1.8708 - mean_absolute_percentage_error: 1.6711\n",
            "Epoch 182/200\n",
            "76/76 [==============================] - 1s 7ms/step - loss: 2.2881 - mean_absolute_percentage_error: 1.9266\n",
            "Epoch 183/200\n",
            "76/76 [==============================] - 0s 6ms/step - loss: 1.9879 - mean_absolute_percentage_error: 1.7903\n",
            "Epoch 184/200\n",
            "76/76 [==============================] - 0s 6ms/step - loss: 2.1501 - mean_absolute_percentage_error: 2.0323\n",
            "Epoch 185/200\n",
            "76/76 [==============================] - 1s 7ms/step - loss: 2.0076 - mean_absolute_percentage_error: 1.9071\n",
            "Epoch 186/200\n",
            "76/76 [==============================] - 0s 6ms/step - loss: 2.1790 - mean_absolute_percentage_error: 1.9613\n",
            "Epoch 187/200\n",
            "76/76 [==============================] - 0s 7ms/step - loss: 2.0667 - mean_absolute_percentage_error: 1.9162\n",
            "Epoch 188/200\n",
            "76/76 [==============================] - 0s 6ms/step - loss: 1.9633 - mean_absolute_percentage_error: 1.6854\n",
            "Epoch 189/200\n",
            "76/76 [==============================] - 1s 7ms/step - loss: 2.2029 - mean_absolute_percentage_error: 1.6470\n",
            "Epoch 190/200\n",
            "76/76 [==============================] - 0s 6ms/step - loss: 2.3543 - mean_absolute_percentage_error: 2.1497\n",
            "Epoch 191/200\n",
            "76/76 [==============================] - 0s 6ms/step - loss: 2.5781 - mean_absolute_percentage_error: 2.2324\n",
            "Epoch 192/200\n",
            "76/76 [==============================] - 0s 7ms/step - loss: 2.3503 - mean_absolute_percentage_error: 1.9284\n",
            "Epoch 193/200\n",
            "76/76 [==============================] - 0s 6ms/step - loss: 2.5615 - mean_absolute_percentage_error: 1.8705\n",
            "Epoch 194/200\n",
            "76/76 [==============================] - 0s 6ms/step - loss: 2.3280 - mean_absolute_percentage_error: 2.0595\n",
            "Epoch 195/200\n",
            "76/76 [==============================] - 0s 6ms/step - loss: 2.2050 - mean_absolute_percentage_error: 1.8116\n",
            "Epoch 196/200\n",
            "76/76 [==============================] - 0s 6ms/step - loss: 2.4725 - mean_absolute_percentage_error: 2.2235\n",
            "Epoch 197/200\n",
            "76/76 [==============================] - 0s 6ms/step - loss: 1.9569 - mean_absolute_percentage_error: 1.6978\n",
            "Epoch 198/200\n",
            "76/76 [==============================] - 0s 6ms/step - loss: 2.5873 - mean_absolute_percentage_error: 2.0892\n",
            "Epoch 199/200\n",
            "76/76 [==============================] - 0s 7ms/step - loss: 1.8629 - mean_absolute_percentage_error: 1.7698\n",
            "Epoch 200/200\n",
            "76/76 [==============================] - 0s 6ms/step - loss: 1.6047 - mean_absolute_percentage_error: 1.5740\n"
          ],
          "name": "stdout"
        },
        {
          "output_type": "execute_result",
          "data": {
            "text/plain": [
              "<tensorflow.python.keras.callbacks.History at 0x7fb70301c4e0>"
            ]
          },
          "metadata": {
            "tags": []
          },
          "execution_count": 815
        }
      ]
    },
    {
      "cell_type": "code",
      "metadata": {
        "id": "eBSj6t2HG6p-"
      },
      "source": [
        "\r\n"
      ],
      "execution_count": null,
      "outputs": []
    },
    {
      "cell_type": "code",
      "metadata": {
        "id": "AyHcQQK09if9"
      },
      "source": [
        ""
      ],
      "execution_count": null,
      "outputs": []
    },
    {
      "cell_type": "code",
      "metadata": {
        "colab": {
          "base_uri": "https://localhost:8080/"
        },
        "id": "upaMNHti9iif",
        "outputId": "9f62bfb0-6d8f-4a64-a4ae-7129c1934f3a"
      },
      "source": [
        "now = web.DataReader('AAPL', data_source = 'yahoo', start = '2020-01-01', end = '2021-02-12')\r\n",
        "now = now.filter(['Close', 'High', 'Low'])\r\n",
        "dnow = now.values\r\n",
        "xx = []\r\n",
        "yy = []\r\n",
        "print(len(dnow))\r\n",
        "for i in range(30, len(dnow)):\r\n",
        "  \r\n",
        "  xx.append(np.concatenate((dnow[i-30:i, 0],dnow[i-10:i, 1], dnow[i-10:i, 2])))#+data[i,0])\r\n",
        "  yy.append(dnow[i,0])\r\n",
        "\r\n",
        "xx.append(np.concatenate((dnow[len(dnow)-30:len(dnow), 0],dnow[len(dnow)-10:len(dnow), 1], dnow[len(dnow)-10:len(dnow), 2])))\r\n",
        "\r\n",
        "\r\n",
        "xx, yy = np.array(xx), np.array(yy)"
      ],
      "execution_count": null,
      "outputs": [
        {
          "output_type": "stream",
          "text": [
            "281\n"
          ],
          "name": "stdout"
        }
      ]
    },
    {
      "cell_type": "code",
      "metadata": {
        "id": "6iUqR09Bpekp"
      },
      "source": [
        "#nowx=scaler.fit_transform(x)\r\n",
        "nowx = np.reshape(xx, (xx.shape[0], xx.shape[1], 1))\r\n"
      ],
      "execution_count": null,
      "outputs": []
    },
    {
      "cell_type": "code",
      "metadata": {
        "id": "5fun2DJSpenL"
      },
      "source": [
        "xval = np.reshape(x_test, (x_test.shape[0], x_test.shape[1], 1))\r\n",
        "\r\n",
        "\r\n",
        "val = model.predict(xval)"
      ],
      "execution_count": null,
      "outputs": []
    },
    {
      "cell_type": "code",
      "metadata": {
        "colab": {
          "base_uri": "https://localhost:8080/"
        },
        "id": "-XUd4gc6GG3m",
        "outputId": "29849341-6cf0-40c6-c846-0943abbd38b7"
      },
      "source": [
        "err = 0\r\n",
        "for i in range(len(val)):\r\n",
        "  err += abs(val[i][0]-y_test[i])/y_test[i]\r\n",
        "\r\n",
        "#err =(abs(val-y_test))\r\n",
        "#plt.plot(err)\r\n",
        "print(err/len(val))"
      ],
      "execution_count": null,
      "outputs": [
        {
          "output_type": "stream",
          "text": [
            "0.0171410428760282\n"
          ],
          "name": "stdout"
        }
      ]
    },
    {
      "cell_type": "code",
      "metadata": {
        "id": "AHanav4I9ikv"
      },
      "source": [
        "nop = model.predict(nowx)"
      ],
      "execution_count": null,
      "outputs": []
    },
    {
      "cell_type": "code",
      "metadata": {
        "colab": {
          "base_uri": "https://localhost:8080/"
        },
        "id": "4rZWKjRW9inJ",
        "outputId": "08e07615-f8d6-486c-9900-af507a1687f0"
      },
      "source": [
        "print(nop[-1])\r\n",
        "#print(xx[-2])\r\n",
        "print(yy[-1])\r\n",
        "print(len(nop))\r\n",
        "print(len(yy))\r\n"
      ],
      "execution_count": null,
      "outputs": [
        {
          "output_type": "stream",
          "text": [
            "[135.95386]\n",
            "135.1300048828125\n",
            "252\n",
            "251\n"
          ],
          "name": "stdout"
        }
      ]
    },
    {
      "cell_type": "code",
      "metadata": {
        "id": "8izdxV2I9ipj"
      },
      "source": [
        "xfull = np.reshape(x, (x.shape[0], x.shape[1], 1))\r\n",
        "fullpred = model.predict(xfull)"
      ],
      "execution_count": null,
      "outputs": []
    },
    {
      "cell_type": "code",
      "metadata": {
        "id": "n1zXoKRG9ir6"
      },
      "source": [
        "count =0\r\n",
        "tcount =0\r\n",
        "ee = []\r\n",
        "for i in range(len(fullpred)-1):\r\n",
        "  if(fullpred[i+1]> y[i]):\r\n",
        "    count+=10000/y[i]*(fullpred[i+1]-y[i]) - 10\r\n",
        "    ee.append(fullpred[i+1]-y[i])\r\n",
        "  tcount+= y[i+1]-y[i]\r\n",
        "\r\n",
        "ee = np.array(ee)"
      ],
      "execution_count": null,
      "outputs": []
    },
    {
      "cell_type": "code",
      "metadata": {
        "colab": {
          "base_uri": "https://localhost:8080/"
        },
        "id": "O8Z147RP9iun",
        "outputId": "d879f9c5-5736-4736-dcd7-d82cce6d92d6"
      },
      "source": [
        "print(count, tcount, (ee.mean()))"
      ],
      "execution_count": null,
      "outputs": [
        {
          "output_type": "stream",
          "text": [
            "[42970.793] 103.43249893188477 0.41405112\n"
          ],
          "name": "stdout"
        }
      ]
    },
    {
      "cell_type": "code",
      "metadata": {
        "id": "X20rlf4mMlbi"
      },
      "source": [
        ""
      ],
      "execution_count": null,
      "outputs": []
    },
    {
      "cell_type": "code",
      "metadata": {
        "id": "hCCWIykKNJOH"
      },
      "source": [
        ""
      ],
      "execution_count": null,
      "outputs": []
    }
  ]
}